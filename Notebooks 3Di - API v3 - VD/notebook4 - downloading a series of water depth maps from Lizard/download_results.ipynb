{
 "cells": [
  {
   "cell_type": "markdown",
   "metadata": {},
   "source": [
    "In this notebook an example of how to download temporal 3Di rasters from the Lizard storage"
   ]
  },
  {
   "cell_type": "code",
   "execution_count": 1,
   "metadata": {},
   "outputs": [],
   "source": [
    "### if this module is not installed yet, remove the # and do a pip install\n",
    "\n",
    "#!pip install environs\n",
    "#!pip install threedi_scenario_downloader"
   ]
  },
  {
   "cell_type": "code",
   "execution_count": 2,
   "metadata": {},
   "outputs": [],
   "source": [
    "from threedi_scenario_downloader import downloader as dl\n",
    "import os\n",
    "from environs import Env\n",
    "from datetime import datetime\n",
    "from datetime import timedelta\n",
    "from login import get_login_details"
   ]
  },
  {
   "cell_type": "code",
   "execution_count": 3,
   "metadata": {},
   "outputs": [],
   "source": [
    "lizard_username = '__key__'\n",
    "api_key = get_login_details(section='lizard', option='api_key')\n",
    "dl.set_api_key(api_key)"
   ]
  },
  {
   "cell_type": "code",
   "execution_count": 4,
   "metadata": {},
   "outputs": [],
   "source": [
    "# Search for a scenario, only needed if you don't have a scenario uuid yet\n",
    "search_string = 'Selwerd #81 73'\n",
    "\n",
    "search_string = 'Selwerd #81 220 mm'\n",
    "\n",
    "scenarios = dl.find_scenarios_by_name(search_string,limit=100)"
   ]
  },
  {
   "cell_type": "markdown",
   "metadata": {},
   "source": [
    "Search for the required scenario and copy paste the uuid below:"
   ]
  },
  {
   "cell_type": "code",
   "execution_count": 5,
   "metadata": {},
   "outputs": [],
   "source": [
    "scenario_uuid = '1b763a4e-faa6-41f7-bf61-991834b92933' #220 mm\n"
   ]
  },
  {
   "cell_type": "markdown",
   "metadata": {},
   "source": [
    "Copy paste the scenario name, is used to create a unique output directory"
   ]
  },
  {
   "cell_type": "code",
   "execution_count": 6,
   "metadata": {},
   "outputs": [],
   "source": [
    "scenario_name = 'groningen_selwerd_81_200mm_v2'"
   ]
  },
  {
   "cell_type": "code",
   "execution_count": 7,
   "metadata": {},
   "outputs": [],
   "source": [
    "# Check if output dir exists, if not, create it\n",
    "if not os.path.exists (scenario_name):\n",
    "    os.mkdir(scenario_name)"
   ]
  },
  {
   "cell_type": "code",
   "execution_count": 8,
   "metadata": {},
   "outputs": [],
   "source": [
    "#Switch the workspace to the output directory\n",
    "os.chdir(scenario_name)"
   ]
  },
  {
   "cell_type": "code",
   "execution_count": 9,
   "metadata": {},
   "outputs": [],
   "source": [
    "#Download raw results (not always needed):\n",
    "\n",
    "if not os.path.exists ( \"results_3di.nc\"):\n",
    "    dl.download_raw_results(scenario_uuid, \"results_3di.nc\")\n",
    "if not os.path.exists (\"gridadmin.h5\"):\n",
    "    dl.download_grid_administration(scenario_uuid,  \"gridadmin.h5\")"
   ]
  },
  {
   "cell_type": "code",
   "execution_count": 10,
   "metadata": {},
   "outputs": [],
   "source": [
    "pixelsize = 0.5\n",
    "epsg_code = \"EPSG:28992\"\n",
    "start_timestamp = '2000-01-01T00:00'\n",
    "start_timestamp = '2020-10-09T16:37'\n",
    "duration = 3 # hours\n",
    "interval = 5 # minutes"
   ]
  },
  {
   "cell_type": "code",
   "execution_count": 11,
   "metadata": {},
   "outputs": [],
   "source": [
    "# create datetimeobject from starttime for manupilation purposes:\n",
    "\n",
    "start_time = datetime.strptime(start_timestamp , '%Y-%m-%dT%H:%M')\n"
   ]
  },
  {
   "cell_type": "code",
   "execution_count": 12,
   "metadata": {},
   "outputs": [
    {
     "name": "stdout",
     "output_type": "stream",
     "text": [
      "2020-10-09 16:42:00\n",
      "2020-10-09 16:47:00\n",
      "2020-10-09 16:52:00\n",
      "2020-10-09 16:57:00\n",
      "2020-10-09 17:02:00\n",
      "2020-10-09 17:07:00\n",
      "2020-10-09 17:12:00\n",
      "2020-10-09 17:17:00\n",
      "2020-10-09 17:22:00\n",
      "2020-10-09 17:27:00\n",
      "2020-10-09 17:32:00\n",
      "2020-10-09 17:37:00\n",
      "2020-10-09 17:42:00\n",
      "2020-10-09 17:47:00\n",
      "2020-10-09 17:52:00\n",
      "2020-10-09 17:57:00\n",
      "2020-10-09 18:02:00\n",
      "2020-10-09 18:07:00\n",
      "2020-10-09 18:12:00\n",
      "2020-10-09 18:17:00\n",
      "2020-10-09 18:22:00\n",
      "2020-10-09 18:27:00\n",
      "2020-10-09 18:32:00\n",
      "2020-10-09 18:37:00\n",
      "2020-10-09 18:42:00\n",
      "2020-10-09 18:47:00\n",
      "2020-10-09 18:52:00\n",
      "2020-10-09 18:57:00\n",
      "2020-10-09 19:02:00\n",
      "2020-10-09 19:07:00\n",
      "2020-10-09 19:12:00\n",
      "2020-10-09 19:17:00\n",
      "2020-10-09 19:22:00\n",
      "2020-10-09 19:27:00\n",
      "2020-10-09 19:32:00\n",
      "2020-10-09 19:37:00\n",
      "Finished downloading\n"
     ]
    }
   ],
   "source": [
    "#download waterdepths\n",
    "\n",
    "time_stamp = start_time\n",
    "count = 0\n",
    "end_time_stamp = start_time + timedelta(hours = duration)\n",
    "\n",
    "while time_stamp < end_time_stamp:\n",
    "    time_stamp = time_stamp + timedelta(minutes = interval)\n",
    "    print (time_stamp)\n",
    "    count = count + 1\n",
    "    dl.download_waterdepth_raster(scenario_uuid,epsg_code,pixelsize,time_stamp)\n",
    "        \n",
    "   \n",
    "print ('Finished downloading')"
   ]
  },
  {
   "cell_type": "code",
   "execution_count": 13,
   "metadata": {},
   "outputs": [],
   "source": [
    "#dl.download_waterdepth_raster(scenario_uuid,epsg_code,pixelsize,timestamp, pathname=scenario_name)"
   ]
  },
  {
   "cell_type": "code",
   "execution_count": 14,
   "metadata": {},
   "outputs": [
    {
     "name": "stdout",
     "output_type": "stream",
     "text": [
      "2020-10-09 16:42:00\n",
      "2020-10-09 16:47:00\n",
      "2020-10-09 16:52:00\n",
      "2020-10-09 16:57:00\n",
      "2020-10-09 17:02:00\n",
      "2020-10-09 17:07:00\n",
      "2020-10-09 17:12:00\n",
      "2020-10-09 17:17:00\n",
      "2020-10-09 17:22:00\n",
      "2020-10-09 17:27:00\n",
      "2020-10-09 17:32:00\n",
      "2020-10-09 17:37:00\n",
      "2020-10-09 17:42:00\n",
      "2020-10-09 17:47:00\n",
      "2020-10-09 17:52:00\n",
      "2020-10-09 17:57:00\n",
      "2020-10-09 18:02:00\n",
      "2020-10-09 18:07:00\n",
      "2020-10-09 18:12:00\n",
      "2020-10-09 18:17:00\n",
      "2020-10-09 18:22:00\n",
      "2020-10-09 18:27:00\n",
      "2020-10-09 18:32:00\n",
      "2020-10-09 18:37:00\n",
      "2020-10-09 18:42:00\n",
      "2020-10-09 18:47:00\n",
      "2020-10-09 18:52:00\n",
      "2020-10-09 18:57:00\n",
      "2020-10-09 19:02:00\n",
      "2020-10-09 19:07:00\n",
      "2020-10-09 19:12:00\n",
      "2020-10-09 19:17:00\n",
      "2020-10-09 19:22:00\n",
      "2020-10-09 19:27:00\n",
      "2020-10-09 19:32:00\n",
      "2020-10-09 19:37:00\n",
      "Finished downloading\n"
     ]
    }
   ],
   "source": [
    "#now also for waterlevel:\n",
    "\n",
    "time_stamp = start_time\n",
    "end_time_stamp = start_time + timedelta(hours = duration)\n",
    "\n",
    "while time_stamp < end_time_stamp:\n",
    "    time_stamp = time_stamp + timedelta(minutes = interval)\n",
    "    print (time_stamp)\n",
    "    dl.download_waterlevel_raster(scenario_uuid,epsg_code,pixelsize,time_stamp)\n",
    "        \n",
    "        \n",
    "print ('Finished downloading')    "
   ]
  },
  {
   "cell_type": "code",
   "execution_count": null,
   "metadata": {},
   "outputs": [],
   "source": []
  }
 ],
 "metadata": {
  "kernelspec": {
   "display_name": "Python 3 (ipykernel)",
   "language": "python",
   "name": "python3"
  },
  "language_info": {
   "codemirror_mode": {
    "name": "ipython",
    "version": 3
   },
   "file_extension": ".py",
   "mimetype": "text/x-python",
   "name": "python",
   "nbconvert_exporter": "python",
   "pygments_lexer": "ipython3",
   "version": "3.9.13"
  }
 },
 "nbformat": 4,
 "nbformat_minor": 2
}
