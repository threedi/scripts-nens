{
 "cells": [
  {
   "cell_type": "markdown",
   "metadata": {},
   "source": [
    "In this notebook an example of how to download temporal 3Di rasters from the Lizard storage"
   ]
  },
  {
   "cell_type": "code",
   "execution_count": null,
   "metadata": {},
   "outputs": [],
   "source": [
    "### if this module is not installed yet, remove the # and do a pip install\n",
    "\n",
    "#!pip install environs\n"
   ]
  },
  {
   "cell_type": "code",
   "execution_count": null,
   "metadata": {},
   "outputs": [],
   "source": [
    "from threedi_scenario_downloader import downloader as dl\n",
    "import os\n",
    "from environs import Env\n",
    "from datetime import datetime\n",
    "from datetime import timedelta"
   ]
  },
  {
   "cell_type": "markdown",
   "metadata": {},
   "source": [
    "env_file looks like this:\n",
    "\n",
    "API_USERNAME=__key__\n",
    "\n",
    "API_PASSWORD=API Key\n",
    "\n",
    "For more information on API Keys in Lizard, please check out this documentation: https://docs.lizard.net/d_apitechnical.html?highlight=api%20key"
   ]
  },
  {
   "cell_type": "code",
   "execution_count": null,
   "metadata": {},
   "outputs": [],
   "source": [
    "env_file = \"api.env\" #File with username, pass and api root link. the script checks the same folder as the notebook for this file"
   ]
  },
  {
   "cell_type": "markdown",
   "metadata": {},
   "source": [
    "Read the env file"
   ]
  },
  {
   "cell_type": "code",
   "execution_count": null,
   "metadata": {},
   "outputs": [],
   "source": [
    "env = Env()\n",
    "env.read_env(env_file)  # read .env file, if it exists\n",
    "# required variables\n",
    "username = env(\"__key__\")  # => 'sloria'\n",
    "secret = env(\"API_KEY\")  # => raises error if not set"
   ]
  },
  {
   "cell_type": "code",
   "execution_count": null,
   "metadata": {},
   "outputs": [],
   "source": [
    "# Set the headers for authentication\n",
    "dl.set_headers(username,secret) "
   ]
  },
  {
   "cell_type": "code",
   "execution_count": null,
   "metadata": {},
   "outputs": [],
   "source": [
    "# Search for a scenario, only needed if you don't have a scenario uuid yet\n",
    "search_string = 'Selwerd #81 73'\n",
    "\n",
    "search_string = 'Selwerd #81 220 mm'\n",
    "\n",
    "scenarios = dl.find_scenarios_by_name(search_string,limit=100)"
   ]
  },
  {
   "cell_type": "code",
   "execution_count": null,
   "metadata": {},
   "outputs": [],
   "source": [
    "print (scenarios)"
   ]
  },
  {
   "cell_type": "markdown",
   "metadata": {},
   "source": [
    "Search for the required scenario and copy paste the uuid below:"
   ]
  },
  {
   "cell_type": "code",
   "execution_count": null,
   "metadata": {},
   "outputs": [],
   "source": [
    "scenario_uuid = '842782af-4373-409a-96a9-68303cdaa883' #220 mm\n"
   ]
  },
  {
   "cell_type": "markdown",
   "metadata": {},
   "source": [
    "Copy paste the scenario name, is used to create a unique output directory"
   ]
  },
  {
   "cell_type": "code",
   "execution_count": null,
   "metadata": {},
   "outputs": [],
   "source": [
    "scenario_name = 'groningen_selwerd_81_200mm_v2'"
   ]
  },
  {
   "cell_type": "code",
   "execution_count": null,
   "metadata": {},
   "outputs": [],
   "source": [
    "# Check if output dir exists, if not, create it\n",
    "if not os.path.exists (scenario_name):\n",
    "    os.mkdir(scenario_name)"
   ]
  },
  {
   "cell_type": "code",
   "execution_count": null,
   "metadata": {},
   "outputs": [],
   "source": [
    "#Switch the workspace to the output directory\n",
    "os.chdir(scenario_name)"
   ]
  },
  {
   "cell_type": "code",
   "execution_count": null,
   "metadata": {},
   "outputs": [],
   "source": []
  },
  {
   "cell_type": "code",
   "execution_count": null,
   "metadata": {},
   "outputs": [],
   "source": [
    "#Download raw results (not always needed):\n",
    "\n",
    "if not os.path.exists ( \"results_3di.nc\"):\n",
    "    dl.download_raw_results(scenario_uuid, \"results_3di.nc\")\n",
    "if not os.path.exists (\"gridadmin.h5\"):\n",
    "    dl.download_grid_administration(scenario_uuid,  \"gridadmin.h5\")"
   ]
  },
  {
   "cell_type": "code",
   "execution_count": null,
   "metadata": {},
   "outputs": [],
   "source": [
    "pixelsize = 0.5\n",
    "epsg_code = \"EPSG:28992\"\n",
    "start_timestamp = '2000-01-01T00:00'\n",
    "start_timestamp = '2020-10-09T16:37'\n",
    "duration = 3 # hours\n",
    "interval = 5 # minutes"
   ]
  },
  {
   "cell_type": "code",
   "execution_count": null,
   "metadata": {},
   "outputs": [],
   "source": [
    "# create datetimeobject from starttime for manupilation purposes:\n",
    "\n",
    "start_time = datetime.strptime(start_timestamp , '%Y-%m-%dT%H:%M')\n"
   ]
  },
  {
   "cell_type": "code",
   "execution_count": null,
   "metadata": {},
   "outputs": [],
   "source": [
    "#download waterdepths\n",
    "\n",
    "time_stamp = start_time\n",
    "count = 0\n",
    "end_time_stamp = start_time + timedelta(hours = duration)\n",
    "\n",
    "while time_stamp < end_time_stamp:\n",
    "    time_stamp = time_stamp + timedelta(minutes = interval)\n",
    "    print (time_stamp)\n",
    "    count = count + 1\n",
    "    dl.download_waterdepth_raster(scenario_uuid,epsg_code,pixelsize,time_stamp)\n",
    "        \n",
    "   \n",
    "print ('Finished downloading')"
   ]
  },
  {
   "cell_type": "code",
   "execution_count": null,
   "metadata": {},
   "outputs": [],
   "source": [
    "#dl.download_waterdepth_raster(scenario_uuid,epsg_code,pixelsize,timestamp, pathname=scenario_name)"
   ]
  },
  {
   "cell_type": "code",
   "execution_count": null,
   "metadata": {},
   "outputs": [],
   "source": [
    "#now also for waterlevel:\n",
    "\n",
    "time_stamp = start_time\n",
    "end_time_stamp = start_time + timedelta(hours = duration)\n",
    "\n",
    "while time_stamp < end_time_stamp:\n",
    "    time_stamp = time_stamp + timedelta(minutes = interval)\n",
    "    print (time_stamp)\n",
    "    dl.download_waterlevel_raster(scenario_uuid,epsg_code,pixelsize,time_stamp)\n",
    "        \n",
    "        \n",
    "print ('Finished downloading')    "
   ]
  },
  {
   "cell_type": "code",
   "execution_count": null,
   "metadata": {},
   "outputs": [],
   "source": []
  }
 ],
 "metadata": {
  "kernelspec": {
   "display_name": "Python 3",
   "language": "python",
   "name": "python3"
  },
  "language_info": {
   "codemirror_mode": {
    "name": "ipython",
    "version": 3
   },
   "file_extension": ".py",
   "mimetype": "text/x-python",
   "name": "python",
   "nbconvert_exporter": "python",
   "pygments_lexer": "ipython3",
   "version": "3.7.9"
  }
 },
 "nbformat": 4,
 "nbformat_minor": 2
}
