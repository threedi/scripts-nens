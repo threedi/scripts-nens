{
 "cells": [
  {
   "cell_type": "markdown",
   "metadata": {},
   "source": [
    "<img style=\"float: left;\" alt=\"Drawing\" src=\"./figures/3Di_beeldmerk_RGB.png\" width=\"100\"/>"
   ]
  },
  {
   "cell_type": "markdown",
   "metadata": {},
   "source": [
    "## Starting a 3Di simulation with control structures"
   ]
  },
  {
   "cell_type": "markdown",
   "metadata": {},
   "source": [
    "Welcome! In this notebook we will show you how to start a <a href=\"https://3diwatermanagement.com/\">3Di</a>-simulation in a jupyter notebook by using the API-v3. In addition, we will show you how to set control structures.\n",
    "\n",
    "The example we use sets the discharge coefficient in two orifices to almost zero based on a water level at a certain connection node. This is an example of the use of control structures. 3Di knows various control structures: timed control, table control, & memory control. For more detail check out the documentation: https://docs.3di.live/c_control.html \n",
    "\n",
    "The following steps will be taken according to an example of an 3Di model:\n",
    "- **step 1:** Creating a 3Di-simulation by using the threedi-api\n",
    "- **step 2:** Adding events to this 3Di-simulation including control structures by using the threedi-api\n",
    "- **step 3:** Running the 3Di-simulation by using the threedi-api"
   ]
  },
  {
   "cell_type": "markdown",
   "metadata": {},
   "source": [
    "**Step 1: Starting a 3Di-simulation by using the threedi-api**"
   ]
  },
  {
   "cell_type": "markdown",
   "metadata": {},
   "source": [
    "Importing all required packages:"
   ]
  },
  {
   "cell_type": "code",
   "execution_count": null,
   "metadata": {},
   "outputs": [],
   "source": [
    "from datetime import datetime\n",
    "from getpass import getpass\n",
    "\n",
    "from openapi_client import ApiException, SimulationsApi, OrganisationsApi\n",
    "from openapi_client.api import AuthApi\n",
    "from openapi_client.api import ThreedimodelsApi\n",
    "from openapi_client.models import RasterEdit\n",
    "from threedi_api_client.threedi_api_client import ThreediApiClient\n"
   ]
  },
  {
   "cell_type": "markdown",
   "metadata": {},
   "source": [
    "Provide your credentials to connect to the threedi-api:"
   ]
  },
  {
   "cell_type": "code",
   "execution_count": null,
   "metadata": {},
   "outputs": [],
   "source": [
    "api_host = \"https://api.3di.live/v3.0\"\n",
    "username = input(\"Username: \")\n",
    "password = getpass(\"Password: \")\n",
    "config = {\n",
    "    \"API_HOST\": api_host,\n",
    "    \"API_USERNAME\": username,\n",
    "    \"API_PASSWORD\": password\n",
    "}\n",
    "\n",
    "api_client = ThreediApiClient(config=config)"
   ]
  },
  {
   "cell_type": "markdown",
   "metadata": {},
   "source": [
    "Check the connection with your provided credentials:"
   ]
  },
  {
   "cell_type": "code",
   "execution_count": null,
   "metadata": {},
   "outputs": [],
   "source": [
    "auth_api = AuthApi(api_client)\n",
    "\n",
    "try:\n",
    "    user = auth_api.auth_profile_list()\n",
    "except ApiException as e:\n",
    "    print(\"Oops, something went wrong. Maybe you made a typo?\")\n",
    "else:\n",
    "    print(f\"Successfully logged in as {user.username}!\")"
   ]
  },
  {
   "cell_type": "markdown",
   "metadata": {},
   "source": [
    "1.3  In order to run a simulation you need a threedi-model. Let's see which threedi-models are available:"
   ]
  },
  {
   "cell_type": "code",
   "execution_count": null,
   "metadata": {},
   "outputs": [],
   "source": [
    "models_api = ThreedimodelsApi(api_client)\n",
    "\n",
    "part_of_the_model_name = \"aleida\"\n",
    "\n",
    "#help(models_api.threedimodels_list) # Use this line to see what options for filtering are available\n",
    "\n",
    "models = models_api.threedimodels_list(name__icontains=part_of_the_model_name, limit = \"20\")  # limit to the first 20 results\n",
    "for model in models.results:\n",
    "    print(f\"{model.name, model.id}\")\n",
    "    \n",
    "#print(models)\n",
    "   \n"
   ]
  },
  {
   "cell_type": "code",
   "execution_count": null,
   "metadata": {},
   "outputs": [],
   "source": [
    "#set the model id of the model to use in this calculation\n",
    "model_id = 24158"
   ]
  },
  {
   "cell_type": "markdown",
   "metadata": {},
   "source": [
    "In this notebook we will use a sample model with control structures in it"
   ]
  },
  {
   "cell_type": "markdown",
   "metadata": {},
   "source": [
    "Now that we have a model we are almost ready to create the simulation. However, first we'll need to get an organisation under which's name we will run the simulation.\n",
    "\n",
    "Let's see which organisations are available within my user account:"
   ]
  },
  {
   "cell_type": "code",
   "execution_count": null,
   "metadata": {
    "scrolled": true
   },
   "outputs": [],
   "source": [
    "organisation_api = OrganisationsApi(api_client)\n",
    "\n",
    "organisations = organisation_api.organisations_list(name__icontains=\"N&S\")\n",
    "\n",
    "for organisation in organisations.results:\n",
    "    print(f\"{organisation.name}: {organisation.unique_id}\")"
   ]
  },
  {
   "cell_type": "markdown",
   "metadata": {},
   "source": [
    "In this example we use the organisation from Nelen & Schuurmans:\n",
    "\n",
    "organisation_uuid = \"61f5a464c35044c19bc7d4b42d7f58cb\""
   ]
  },
  {
   "cell_type": "code",
   "execution_count": null,
   "metadata": {},
   "outputs": [],
   "source": [
    "#organisation_uuid = \"61f5a464c35044c19bc7d4b42d7f58cb\" #Nelen & Schuurmans\n",
    "organisation_uuid = \"b08433fa47c1401eb9cbd4156034c679\" #N&S IT"
   ]
  },
  {
   "cell_type": "markdown",
   "metadata": {},
   "source": [
    "1.5 Let's create the simulation of the chosen model now, with this organisation uuid. Note that it will not run yet."
   ]
  },
  {
   "cell_type": "code",
   "execution_count": null,
   "metadata": {},
   "outputs": [],
   "source": [
    "simulation_api = SimulationsApi(api_client)\n",
    "\n",
    "name_for_simulation = \"demo_simulation_control_structures 2\"\n",
    "sim_duration = 3600\n",
    "\n",
    "my_simulation = simulation_api.simulations_create(\n",
    "    data={\n",
    "        \"name\": name_for_simulation,\n",
    "        \"threedimodel\": model_id,\n",
    "        \"organisation\": organisation_uuid,\n",
    "        \"start_datetime\": datetime.now(),\n",
    "        \"duration\": sim_duration  # in seconds, so we simulate for 1 hour\n",
    "    }\n",
    ")\n",
    "\n",
    "\n",
    "#print an overview of the simulation\n",
    "my_simulation"
   ]
  },
  {
   "cell_type": "markdown",
   "metadata": {},
   "source": [
    "You can check the status of the simulation with the following api call:"
   ]
  },
  {
   "cell_type": "code",
   "execution_count": null,
   "metadata": {},
   "outputs": [],
   "source": [
    "#check the status of the simulation with:\n",
    "status = simulation_api.simulations_status_list(my_simulation.id)\n",
    "print(status)"
   ]
  },
  {
   "cell_type": "markdown",
   "metadata": {},
   "source": [
    "We can see the simulation has not started yet. The options at the name of the status can be: \"created\", \"started\" and \"finished\"."
   ]
  },
  {
   "cell_type": "markdown",
   "metadata": {},
   "source": [
    "**Step 2: Adding events to this 3Di-simulation by using the threedi-api**"
   ]
  },
  {
   "cell_type": "markdown",
   "metadata": {},
   "source": [
    "In the previous step we created a simulation for the 3Di model of rockflow. Several events can be added to this 3Di-simulation:\n",
    "\n",
    "* initial waterlevels\n",
    "* rain\n",
    "* breaches\n",
    "* laterals\n",
    "* control structures \n"
   ]
  },
  {
   "cell_type": "markdown",
   "metadata": {},
   "source": [
    "In this step we create a simple constant rain event of 30 minutes with an offset of 5 minutes:"
   ]
  },
  {
   "cell_type": "code",
   "execution_count": null,
   "metadata": {},
   "outputs": [],
   "source": [
    "from openapi_client.models import ConstantRain\n",
    "constant_rain = ConstantRain(\n",
    "    simulation=my_simulation.id,   # the ID we got from our create call above\n",
    "    offset=300,        # let the rain start after 5 minutes\n",
    "    duration=1800,    # let the rain last for half an hour\n",
    "    value=0.0000278,     # in m/s, 0.0000278 = 100 mm/h\n",
    "    units=\"m/s\"       # the only unit supported for now\n",
    ")\n",
    "\n",
    "print (constant_rain)"
   ]
  },
  {
   "cell_type": "markdown",
   "metadata": {},
   "source": [
    "Now we add this constant rain event to our created simulation"
   ]
  },
  {
   "cell_type": "code",
   "execution_count": null,
   "metadata": {},
   "outputs": [],
   "source": [
    "simulation_api.simulations_events_rain_constant_create(my_simulation.id, constant_rain)"
   ]
  },
  {
   "cell_type": "markdown",
   "metadata": {},
   "source": [
    "2.3 We can get an overview of the added events to our 3Di-simulation by the following api-call:"
   ]
  },
  {
   "cell_type": "code",
   "execution_count": null,
   "metadata": {},
   "outputs": [],
   "source": [
    "events = simulation_api.simulations_events(my_simulation.id)\n",
    "print(events)"
   ]
  },
  {
   "cell_type": "markdown",
   "metadata": {},
   "source": [
    "So, we can indeed see here that we have only added the constant rain event to our 3di-simulation."
   ]
  },
  {
   "cell_type": "markdown",
   "metadata": {},
   "source": [
    "**Step 2.2. Adding controls to the simulation**"
   ]
  },
  {
   "cell_type": "code",
   "execution_count": null,
   "metadata": {
    "scrolled": true
   },
   "outputs": [],
   "source": [
    "#help(simulation_api) #use this line to see all options available\n",
    "help(simulation_api.simulations_events_structure_control_table_create)  # we use this one the request information on the endpoint"
   ]
  },
  {
   "cell_type": "code",
   "execution_count": null,
   "metadata": {},
   "outputs": [],
   "source": [
    "# As we can see we need to provide data on the control. \n",
    "\n",
    "from openapi_client.models import MeasureSpecification\n",
    "from openapi_client.models import MeasureLocation\n",
    "from openapi_client.models import TableStructureControl"
   ]
  },
  {
   "cell_type": "code",
   "execution_count": null,
   "metadata": {},
   "outputs": [],
   "source": [
    "# First we define the location where the measure is taken. \n",
    "measure_location1 = MeasureLocation (\n",
    "    weight = 1.0,\n",
    "    content_type = 'v2_connection_node',\n",
    "    content_pk = 92776\n",
    ")\n",
    "\n",
    "# Then we define what is measured and the operator sign. This indicates whether the control has to act when (in this example waterlevel) is higher or lower than a certain value\n",
    "measure1 = MeasureSpecification (\n",
    "    name = 'measure point 1',\n",
    "    locations = [measure_location1], #in case of multiple locations add as a list\n",
    "    variable = 's1', #waterlevel measurement variable, one of the following options: s1 (waterlevel), vol1 (volume), q (discharge), u1 (velocity)\n",
    "    operator = '>')\n",
    "\n",
    "control_in_simulation = TableStructureControl (\n",
    "    duration = sim_duration,\n",
    "    offset = 0,\n",
    "    measure_specification = measure1, #defined before\n",
    "    structure_id = 5, #this is the id of the structure in the model. \n",
    "    structure_type ='v2_orifice', #[ v2_pumpstation, v2_pipe, v2_orifice, v2_culvert, v2_weir, v2_channel ]\n",
    "    type = 'set_discharge_coefficients', # [ set_discharge_coefficients, set_crest_level, set_pump_capacity ]\n",
    "    values = [[-2.60,0.0063,0.0063]] #When the water level exceeds the value of -2.60 m MSL the discharge coefficient of this structure is set to 0.063 (almost closed)\n",
    ")"
   ]
  },
  {
   "cell_type": "code",
   "execution_count": null,
   "metadata": {},
   "outputs": [],
   "source": [
    "simulation_api.simulations_events_structure_control_table_create(my_simulation.id, control_in_simulation)"
   ]
  },
  {
   "cell_type": "code",
   "execution_count": null,
   "metadata": {},
   "outputs": [],
   "source": [
    "# First we define the location where the measure is taken. \n",
    "measure_location2 = MeasureLocation (\n",
    "    weight = 1.0,\n",
    "    content_type = 'v2_connection_node',\n",
    "    content_pk = 92776\n",
    ")\n",
    "\n",
    "# Then we define what is measured and the operator sign. This indicates whether the control has to act when (in this example waterlevel) is higher or lower than a certain value\n",
    "measure2 = MeasureSpecification (\n",
    "    name = 'measure point 2',\n",
    "    locations = [measure_location2], #in case of multiple locations add as a list\n",
    "    variable = 's1', #waterlevel measurement variable, one of the following options: s1 (waterlevel), vol1 (volume), q (discharge), u1 (velocity)\n",
    "    operator = '>')\n",
    "\n",
    "control_in_simulation2 = TableStructureControl (\n",
    "    duration = sim_duration,\n",
    "    offset = 0,\n",
    "    measure_specification = measure2, #defined before\n",
    "    structure_id = 6, #this is the id of the structure in the model. \n",
    "    structure_type ='v2_orifice', #[ v2_pumpstation, v2_pipe, v2_orifice, v2_culvert, v2_weir, v2_channel ]\n",
    "    type = 'set_discharge_coefficients', # [ set_discharge_coefficients, set_crest_level, set_pump_capacity ]\n",
    "    values = [[-2.60,0.0063,0.0063]] #When the water level exceeds the value of -2.60 m MSL the discharge coefficient of this structure is set to 0.063 (almost closed)\n",
    ")"
   ]
  },
  {
   "cell_type": "code",
   "execution_count": null,
   "metadata": {},
   "outputs": [],
   "source": [
    "\n",
    "simulation_api.simulations_events_structure_control_table_create(my_simulation.id, control_in_simulation2)"
   ]
  },
  {
   "cell_type": "markdown",
   "metadata": {},
   "source": [
    "**Step 3: Running the 3Di-simulation by using the threedi-api**"
   ]
  },
  {
   "cell_type": "markdown",
   "metadata": {},
   "source": [
    "We will now start our simulation with the constant rain event:"
   ]
  },
  {
   "cell_type": "code",
   "execution_count": null,
   "metadata": {},
   "outputs": [],
   "source": [
    "simulation_api.simulations_actions_create(my_simulation.id, data={\"name\": \"start\"})"
   ]
  },
  {
   "cell_type": "markdown",
   "metadata": {},
   "source": [
    "We can check the status of the 3Di-simulation with:"
   ]
  },
  {
   "cell_type": "code",
   "execution_count": null,
   "metadata": {},
   "outputs": [],
   "source": [
    "#check the status of the simulation with:\n",
    "status = simulation_api.simulations_status_list(my_simulation.id)\n",
    "print(status)"
   ]
  },
  {
   "cell_type": "markdown",
   "metadata": {},
   "source": [
    "\n",
    "**-----------------------------------------------------------------------------------------------------------------------------------------------------------------------------------------------------------------**\n",
    "The end\n",
    "\n",
    "In this tutorial we showed you:\n",
    "- how to start a simulation of a 3Di-model, \n",
    "- how to add a simple rain event to your simulation, \n",
    "- how to add control to your simulation\n",
    "- how to see the progress\n",
    "\n",
    "And all possible within a Jupyter notebook by making use of the API-v3. Ofcourse there are a lot more options for the analysis possible, by using threedigrid. Or for the events you can add to your simulation. Do you want to learn more or are you interested in some more possible analysis in a jupyter notebook? \n",
    "\n",
    "**Please contact**:\n",
    "\n",
    "Jonas van Schrojenstein | jonas.vanschrojenstein@nelen-schuurmans.nl\n"
   ]
  },
  {
   "cell_type": "code",
   "execution_count": null,
   "metadata": {},
   "outputs": [],
   "source": []
  }
 ],
 "metadata": {
  "kernelspec": {
   "display_name": "Python 3",
   "language": "python",
   "name": "python3"
  },
  "language_info": {
   "codemirror_mode": {
    "name": "ipython",
    "version": 3
   },
   "file_extension": ".py",
   "mimetype": "text/x-python",
   "name": "python",
   "nbconvert_exporter": "python",
   "pygments_lexer": "ipython3",
   "version": "3.7.9"
  }
 },
 "nbformat": 4,
 "nbformat_minor": 4
}
