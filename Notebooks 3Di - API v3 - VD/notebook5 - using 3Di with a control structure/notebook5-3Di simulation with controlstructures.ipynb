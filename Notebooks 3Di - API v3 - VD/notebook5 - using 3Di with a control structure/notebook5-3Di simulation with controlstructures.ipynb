{
 "cells": [
  {
   "cell_type": "markdown",
   "metadata": {},
   "source": [
    "<img style=\"float: left;\" alt=\"Drawing\" src=\"./figures/3Di_beeldmerk_RGB.png\" width=\"100\"/>"
   ]
  },
  {
   "cell_type": "markdown",
   "metadata": {},
   "source": [
    "## Starting a 3Di simulation with control structures"
   ]
  },
  {
   "cell_type": "markdown",
   "metadata": {},
   "source": [
    "Welcome! In this notebook we will show you how to start a <a href=\"https://3diwatermanagement.com/\">3Di</a>-simulation in a jupyter notebook by using the API-v3. In addition, we will show you how to set control structures.\n",
    "\n",
    "The example we use sets the discharge coefficient in two orifices to almost zero based on a water level at a certain connection node. This is an example of the use of control structures. 3Di knows various control structures: timed control, table control, & memory control. For more detail check out the documentation: https://docs.3di.live/c_control.html .\n",
    "\n",
    "The following steps will be taken according to an example of an 3Di model:\n",
    "- **step 1:** Creating a 3Di-simulation by using the threedi-api\n",
    "- **step 2:** Adding events to this 3Di-simulation including control structures by using the threedi-api\n",
    "- **step 3:** Running the 3Di-simulation by using the threedi-api"
   ]
  },
  {
   "cell_type": "markdown",
   "metadata": {},
   "source": [
    "**Step 1: Starting a 3Di-simulation by using the threedi-api**"
   ]
  },
  {
   "cell_type": "markdown",
   "metadata": {},
   "source": [
    "Importing all required packages:"
   ]
  },
  {
   "cell_type": "code",
   "execution_count": 1,
   "metadata": {},
   "outputs": [],
   "source": [
    "from datetime import datetime\n",
    "from getpass import getpass\n",
    "from threedi_api_client.threedi_api_client import ThreediApiClient\n",
    "from threedi_api_client.api import ThreediApi\n",
    "from threedi_api_client.versions import V3Api\n",
    "\n",
    "from login import get_login_details\n",
    "import configparser\n"
   ]
  },
  {
   "cell_type": "markdown",
   "metadata": {},
   "source": [
    "Provide your credentials to connect to the threedi-api:"
   ]
  },
  {
   "cell_type": "code",
   "execution_count": 2,
   "metadata": {},
   "outputs": [],
   "source": [
    "CONFIG = {\n",
    "    \"THREEDI_API_HOST\": \"https://api.3di.live\",\n",
    "    \"THREEDI_API_USERNAME\": get_login_details(option='username'),\n",
    "    \"THREEDI_API_PASSWORD\": get_login_details(option='password')\n",
    "}  #\n",
    "THREEDI_API = ThreediApi(config=CONFIG, version='v3-beta')"
   ]
  },
  {
   "cell_type": "markdown",
   "metadata": {},
   "source": [
    "Check the connection with your provided credentials:"
   ]
  },
  {
   "cell_type": "code",
   "execution_count": 3,
   "metadata": {},
   "outputs": [
    {
     "name": "stdout",
     "output_type": "stream",
     "text": [
      "Successfully logged in as olof.baltus!\n"
     ]
    }
   ],
   "source": [
    "try:\n",
    "    user = THREEDI_API.auth_profile_list()\n",
    "except ApiException as e:\n",
    "    print(\"Oops, something went wrong. Maybe you made a typo?\")\n",
    "else:\n",
    "    print(f\"Successfully logged in as {user.username}!\")"
   ]
  },
  {
   "cell_type": "markdown",
   "metadata": {},
   "source": [
    "1.3  In order to run a simulation you need a threedi-model. Let's see which threedi-models are available:"
   ]
  },
  {
   "cell_type": "code",
   "execution_count": 4,
   "metadata": {},
   "outputs": [
    {
     "name": "stdout",
     "output_type": "stream",
     "text": [
      "('bwn-schermer - bwn_schermer_1d2d_glg (5) #20', 52244)\n",
      "('RegionalFloodModel - deelmodel Schermer Midden Zuid #11', 52234)\n",
      "('RegionalFloodModel - deelmodel Schermer Hoog Zuid #9', 52210)\n",
      "('RegionalFloodModel - deelmodel Schermer Hoog Zuid #8', 52209)\n",
      "('RegionalFloodModel - deelmodel Schermer Hoog Zuid #6', 52203)\n",
      "('RegionalFloodModel - deelmodel Schermer Laag Noord #7', 52194)\n",
      "('RegionalFloodModel - deelmodel Schermer Midden Noord #12', 52166)\n",
      "('RegionalFloodModel - deelmodel Schermer Midden Noord #11', 52056)\n",
      "('RegionalFloodModel - deelmodel Schermer Laag Noord #6', 51957)\n",
      "('RegionalFloodModel - deelmodel Schermer Midden Noord #10', 51407)\n",
      "('RegionalFloodModel - deelmodel Schermer Laag Noord #5', 51405)\n",
      "('RegionalFloodModel - deelmodel Schermer Midden Zuid #10', 51119)\n",
      "('RegionalFloodModel - deelmodel Schermer Hoog Noord #10', 51024)\n",
      "('RegionalFloodModel - deelmodel Schermer Laag Zuid #9', 51010)\n",
      "('RegionalFloodModel - deelmodel Schermer Hoog Noord #9', 50468)\n",
      "('RegionalFloodModel - deelmodel Schermer Midden Zuid #9', 50445)\n",
      "('RegionalFloodModel - deelmodel Schermer Laag Zuid #8', 50420)\n",
      "('demo_schermer_1d2d #1', 50417)\n",
      "('RegionalFloodModel - deelmodel Schermer Laag Zuid #7', 50068)\n",
      "('RegionalFloodModel - deelmodel Schermer Hoog Noord #8', 49685)\n"
     ]
    }
   ],
   "source": [
    "part_of_the_model_name = \"schermer\"\n",
    "\n",
    "models = THREEDI_API.threedimodels_list(name__icontains=part_of_the_model_name, limit = \"20\")  # limit to the first 20 results\n",
    "for model in models.results:\n",
    "    print(f\"{model.name, model.id}\")\n",
    "    \n",
    "#print(models)\n",
    "   \n"
   ]
  },
  {
   "cell_type": "code",
   "execution_count": 5,
   "metadata": {},
   "outputs": [],
   "source": [
    "#set the model id of the model to use in this calculation\n",
    "model_id = 50417"
   ]
  },
  {
   "cell_type": "markdown",
   "metadata": {},
   "source": [
    "In this notebook we will use a sample model with control structures in it"
   ]
  },
  {
   "cell_type": "markdown",
   "metadata": {},
   "source": [
    "Now that we have a model we are almost ready to create the simulation. However, first we'll need to get an organisation under which's name we will run the simulation.\n",
    "\n",
    "Let's see which organisations are available within my user account:"
   ]
  },
  {
   "cell_type": "code",
   "execution_count": 6,
   "metadata": {
    "scrolled": true
   },
   "outputs": [
    {
     "name": "stdout",
     "output_type": "stream",
     "text": [
      "N&S Branch Office: 74983d5a0fd84c22bb09e7656d570fb6\n",
      "N&S Demo: a1993f6e13564e9687ae03a3604463f9\n"
     ]
    }
   ],
   "source": [
    "organisations = THREEDI_API.organisations_list(name__icontains=\"N&S\")\n",
    "\n",
    "for organisation in organisations.results:\n",
    "    print(f\"{organisation.name}: {organisation.unique_id}\")"
   ]
  },
  {
   "cell_type": "markdown",
   "metadata": {},
   "source": [
    "In this example we use the organisation from Nelen & Schuurmans Demo:\n",
    "\n",
    "organisation_uuid = \"a1993f6e13564e9687ae03a3604463f9\""
   ]
  },
  {
   "cell_type": "code",
   "execution_count": 7,
   "metadata": {},
   "outputs": [],
   "source": [
    "organisation_uuid = \"a1993f6e13564e9687ae03a3604463f9\" #N&S Demo"
   ]
  },
  {
   "cell_type": "markdown",
   "metadata": {},
   "source": [
    "1.5 Let's create the simulation of the chosen model now, with this organisation uuid. Note that it will not run yet."
   ]
  },
  {
   "cell_type": "code",
   "execution_count": 8,
   "metadata": {},
   "outputs": [
    {
     "data": {
      "text/plain": [
       "{'cloned_from': None,\n",
       " 'compute_cluster': None,\n",
       " 'created': 'now',\n",
       " 'duration': 3600,\n",
       " 'duration_humanized': '1 hours, 0 minutes, 0 seconds',\n",
       " 'end_datetime': datetime.datetime(2022, 10, 24, 15, 59, 9, tzinfo=tzutc()),\n",
       " 'id': 99307,\n",
       " 'name': 'demo_simulation_control_structures',\n",
       " 'organisation': 'a1993f6e13564e9687ae03a3604463f9',\n",
       " 'organisation_name': 'N&S Demo',\n",
       " 'slug': 'demo_simulation_control_structures-f3e91fe3-40ed-4499-9b00-0ff4c02b7465',\n",
       " 'start_datetime': datetime.datetime(2022, 10, 24, 14, 59, 9, tzinfo=tzutc()),\n",
       " 'tags': [],\n",
       " 'threedicore_version': None,\n",
       " 'threedimodel': 'https://api.3di.live/v3/threedimodels/50417/',\n",
       " 'threedimodel_id': 50417,\n",
       " 'url': 'https://api.3di.live/v3/simulations/99307/',\n",
       " 'user': 'olof.baltus',\n",
       " 'uuid': 'f3e91fe3-40ed-4499-9b00-0ff4c02b7465'}"
      ]
     },
     "execution_count": 8,
     "metadata": {},
     "output_type": "execute_result"
    }
   ],
   "source": [
    "name_for_simulation = \"demo_simulation_control_structures\"\n",
    "sim_duration = 3600\n",
    "\n",
    "my_simulation = THREEDI_API.simulations_create(\n",
    "    data={\n",
    "        \"name\": name_for_simulation,\n",
    "        \"threedimodel\": model_id,\n",
    "        \"organisation\": organisation_uuid,\n",
    "        \"start_datetime\": datetime.now(),\n",
    "        \"duration\": sim_duration  # in seconds, so we simulate for 1 hour\n",
    "    }\n",
    ")\n",
    "\n",
    "\n",
    "#print an overview of the simulation\n",
    "my_simulation"
   ]
  },
  {
   "cell_type": "markdown",
   "metadata": {},
   "source": [
    "You can check the status of the simulation with the following api call:"
   ]
  },
  {
   "cell_type": "code",
   "execution_count": 9,
   "metadata": {},
   "outputs": [
    {
     "name": "stdout",
     "output_type": "stream",
     "text": [
      "{'created': datetime.datetime(2022, 10, 24, 12, 58, 53, 557670, tzinfo=tzutc()),\n",
      " 'exit_code': None,\n",
      " 'id': 463120,\n",
      " 'name': 'created',\n",
      " 'paused': None,\n",
      " 'time': 0.0}\n"
     ]
    }
   ],
   "source": [
    "#check the status of the simulation with:\n",
    "status = THREEDI_API.simulations_status_list(my_simulation.id)\n",
    "print(status)"
   ]
  },
  {
   "cell_type": "markdown",
   "metadata": {},
   "source": [
    "We can see the simulation has not started yet. The options at the name of the status can be: \"created\", \"started\" and \"finished\"."
   ]
  },
  {
   "cell_type": "markdown",
   "metadata": {},
   "source": [
    "**Step 2: Adding events to this 3Di-simulation by using the threedi-api**"
   ]
  },
  {
   "cell_type": "markdown",
   "metadata": {},
   "source": [
    "In the previous step we created a simulation for the 3Di model of rockflow. Several events can be added to this 3Di-simulation:\n",
    "\n",
    "* initial waterlevels\n",
    "* rain\n",
    "* breaches\n",
    "* laterals\n",
    "* control structures \n"
   ]
  },
  {
   "cell_type": "markdown",
   "metadata": {},
   "source": [
    "In this step we create a simple constant rain event of 30 minutes with an offset of 5 minutes and directly adding it to our simulation:"
   ]
  },
  {
   "cell_type": "code",
   "execution_count": 10,
   "metadata": {},
   "outputs": [
    {
     "data": {
      "text/plain": [
       "{'duration': 1800,\n",
       " 'id': 26518,\n",
       " 'offset': 300,\n",
       " 'simulation': 'https://api.3di.live/v3/simulations/99307/',\n",
       " 'uid': 'b09b5d7e-254b-485b-894a-45884492ee18',\n",
       " 'units': 'm/s',\n",
       " 'url': 'https://api.3di.live/v3/simulations/99307/events/rain/constant/26518/',\n",
       " 'value': 0.0006}"
      ]
     },
     "execution_count": 10,
     "metadata": {},
     "output_type": "execute_result"
    }
   ],
   "source": [
    "THREEDI_API.simulations_events_rain_constant_create(    \n",
    "    simulation_pk=my_simulation.id,   # the ID we got from our create call above\n",
    "    data={\n",
    "        \"offset\": 300,       # let the rain start after 5 minutes\n",
    "        \"duration\": 1800,    # let the rain last for half an hour\n",
    "        \"value\": 0.0006,     # not too extreme after all...;-)\n",
    "        \"units\": \"m/s\",      # the only unit supported for now\n",
    "    },\n",
    ")"
   ]
  },
  {
   "cell_type": "markdown",
   "metadata": {},
   "source": [
    "2.3 We can get an overview of the added events to our 3Di-simulation by the following api-call:"
   ]
  },
  {
   "cell_type": "code",
   "execution_count": 11,
   "metadata": {},
   "outputs": [
    {
     "name": "stdout",
     "output_type": "stream",
     "text": [
      "{'breach': [],\n",
      " 'fileboundaryconditions': None,\n",
      " 'filelaterals': [],\n",
      " 'filerasterleakage': [],\n",
      " 'filerasterrain': [],\n",
      " 'filerastersourcessinks': [],\n",
      " 'filestructurecontrols': [],\n",
      " 'filetimeseriesleakage': [],\n",
      " 'filetimeseriesrain': [],\n",
      " 'filetimeseriessourcessinks': [],\n",
      " 'initial_groundwaterlevel': None,\n",
      " 'initial_groundwaterraster': None,\n",
      " 'initial_onedwaterlevel': None,\n",
      " 'initial_onedwaterlevelfile': None,\n",
      " 'initial_onedwaterlevelpredefined': None,\n",
      " 'initial_savedstate': None,\n",
      " 'initial_twodwaterlevel': None,\n",
      " 'initial_twodwaterraster': None,\n",
      " 'initial_winddragcoefficient': None,\n",
      " 'laterals': [],\n",
      " 'leakage': [],\n",
      " 'lizardrasterrain': [],\n",
      " 'lizardrastersourcessinks': [],\n",
      " 'lizardtimeseriesrain': [],\n",
      " 'lizardtimeseriessourcessinks': [],\n",
      " 'localrain': [],\n",
      " 'memorystructurecontrols': [],\n",
      " 'rasteredits': [],\n",
      " 'savedstates': [],\n",
      " 'tablestructurecontrols': [],\n",
      " 'timedstructurecontrols': [],\n",
      " 'timeseriesrain': [{'constant': True,\n",
      "                     'duration': 1800,\n",
      "                     'id': 26518,\n",
      "                     'interpolate': False,\n",
      "                     'offset': 300,\n",
      "                     'simulation': 'https://api.3di.live/v3/simulations/99307/',\n",
      "                     'uid': 'b09b5d7e-254b-485b-894a-45884492ee18',\n",
      "                     'units': 'm/s',\n",
      "                     'url': 'https://api.3di.live/v3/simulations/99307/events/rain/constant/26518/',\n",
      "                     'values': [[0.0, 0.0006], [1800.0, 0.0]]}],\n",
      " 'timeseriessourcessinks': [],\n",
      " 'wind': []}\n"
     ]
    }
   ],
   "source": [
    "events = THREEDI_API.simulations_events(my_simulation.id)\n",
    "print(events)"
   ]
  },
  {
   "cell_type": "markdown",
   "metadata": {},
   "source": [
    "So, we can indeed see here that we have only added the constant rain event to our 3di-simulation."
   ]
  },
  {
   "cell_type": "markdown",
   "metadata": {},
   "source": [
    "**Step 2.2. Adding controls to the simulation**"
   ]
  },
  {
   "cell_type": "code",
   "execution_count": 12,
   "metadata": {
    "scrolled": true
   },
   "outputs": [
    {
     "name": "stdout",
     "output_type": "stream",
     "text": [
      "Help on method simulations_events_structure_control_table_create in module threedi_api_client.openapi.api.v3_api:\n",
      "\n",
      "simulations_events_structure_control_table_create(simulation_pk, data, **kwargs) method of threedi_api_client.versions.V3BetaApi instance\n",
      "    simulations_events_structure_control_table_create  # noqa: E501\n",
      "    \n",
      "    A table structure control can used to apply a certain action, e.g increase the pump capacity of a pump station, based on the measured values of one or more locations.  **type**  *for weirs and orifices*  - set_crest_level - set_discharge_coefficients  *for culverts, channels and pipes*  - set_discharge_coefficients  *for pumps*  - set_pump_capacity (m3/s)  **values**  The action table consists of one or more value pairs (threshold, action_value)  To close/open or partially close/open a structure using the `set_discharge_coefficients` type the values must contain **three** values. For example `[[1.2, 0.5, 0.7]]`,  where     1.2 is the threshold value     0.5 the action value for the left flow direction     0.7 action value for the right flow direction  Please note: action values for `set_discharge_coefficients` type must be > 0.  For ALL operators threshold values must be ascending,  In most cases the measure location will be of type `v2_connection_node`. For this location type only the variables `s1` and `vol1` apply. If your measure location, however, is of any other type the variable must either be `q` or `u1`.   For both the target structure as well as for the measure location it is allowed to use a grid id as input directly. In this case we will check if the structure type associated with the given id matches with the grid administration data.  Nonetheless, we encourage you to use the structure id (that is the id of the structure in the model sqlite database) as input data. We will look up the corresponding grid id for you. If the validation holds, the state of the resource will be updated from `processing` to `valid`. Using the structure id will enable you to re-use the structure control resource after a model revision as a grid id will most likely change with every new grid generation.  # noqa: E501\n",
      "    This method makes a synchronous HTTP request by default. To make an\n",
      "    asynchronous HTTP request, please pass async_req=True\n",
      "    >>> thread = api.simulations_events_structure_control_table_create(simulation_pk, data, async_req=True)\n",
      "    >>> result = thread.get()\n",
      "    \n",
      "    :param async_req bool: execute request asynchronously\n",
      "    :param str simulation_pk: (required)\n",
      "    :param TableStructureControl data: (required)\n",
      "    :param _preload_content: if False, the urllib3.HTTPResponse object will\n",
      "                             be returned without reading/decoding response\n",
      "                             data. Default is True.\n",
      "    :param _request_timeout: timeout setting for this request. If one\n",
      "                             number provided, it will be total request\n",
      "                             timeout. It can also be a pair (tuple) of\n",
      "                             (connection, read) timeouts.\n",
      "    :return: TableStructureControl\n",
      "             If the method is called asynchronously,\n",
      "             returns the request thread.\n",
      "\n"
     ]
    }
   ],
   "source": [
    "#help(simulation_api) #use this line to see all options available\n",
    "help(THREEDI_API.simulations_events_structure_control_table_create)  # we use this one the request information on the endpoint"
   ]
  },
  {
   "cell_type": "code",
   "execution_count": 13,
   "metadata": {},
   "outputs": [
    {
     "name": "stderr",
     "output_type": "stream",
     "text": [
      "C:\\Users\\olof.baltus\\AppData\\Roaming\\Python\\Python39\\site-packages\\openapi_client\\__init__.py:22: UserWarning: openapi_client is pending deprecation. Please use the new threedi_api_client.ThreediApi and the models in threedi_api_client.openapi.\n",
      "  warnings.warn(\n"
     ]
    }
   ],
   "source": [
    "# As we can see we need to provide data on the control. \n",
    "\n",
    "from openapi_client.models import MeasureSpecification\n",
    "from openapi_client.models import MeasureLocation\n",
    "from openapi_client.models import TableStructureControl"
   ]
  },
  {
   "cell_type": "code",
   "execution_count": 14,
   "metadata": {},
   "outputs": [],
   "source": [
    "# First we define the location where the measure is taken. \n",
    "measure_location1 = MeasureLocation (\n",
    "    weight = 1.0,\n",
    "    content_type = 'v2_connection_node',\n",
    "    content_pk = 92776\n",
    ")\n",
    "\n",
    "# Then we define what is measured and the operator sign. This indicates whether the control has to act when (in this example waterlevel) is higher or lower than a certain value\n",
    "measure1 = MeasureSpecification (\n",
    "    name = 'measure point 1',\n",
    "    locations = [measure_location1], #in case of multiple locations add as a list\n",
    "    variable = 's1', #waterlevel measurement variable, one of the following options: s1 (waterlevel), vol1 (volume), q (discharge), u1 (velocity)\n",
    "    operator = '>')\n",
    "\n",
    "control_in_simulation = TableStructureControl (\n",
    "    duration = sim_duration,\n",
    "    offset = 0,\n",
    "    measure_specification = measure1, #defined before\n",
    "    structure_id = 5, #this is the id of the structure in the model. \n",
    "    structure_type ='v2_orifice', #[ v2_pumpstation, v2_pipe, v2_orifice, v2_culvert, v2_weir, v2_channel ]\n",
    "    type = 'set_discharge_coefficients', # [ set_discharge_coefficients, set_crest_level, set_pump_capacity ]\n",
    "    values = [[-2.60,0.0063,0.0063]] #When the water level exceeds the value of -2.60 m MSL the discharge coefficient of this structure is set to 0.063 (almost closed)\n",
    ")"
   ]
  },
  {
   "cell_type": "code",
   "execution_count": 15,
   "metadata": {},
   "outputs": [
    {
     "data": {
      "text/plain": [
       "{'duration': 3600,\n",
       " 'grid_id': None,\n",
       " 'id': 4506,\n",
       " 'measure_specification': {'id': 4511,\n",
       "                           'locations': [{'content_pk': 92776,\n",
       "                                          'content_type': 'v2_connection_node',\n",
       "                                          'grid_id': None,\n",
       "                                          'id': 4511,\n",
       "                                          'state': 'processing',\n",
       "                                          'state_detail': None,\n",
       "                                          'weight': '1.00'}],\n",
       "                           'name': 'measure point 1',\n",
       "                           'operator': '>',\n",
       "                           'variable': 's1'},\n",
       " 'offset': 0,\n",
       " 'state': 'processing',\n",
       " 'state_detail': None,\n",
       " 'structure_id': 5,\n",
       " 'structure_type': 'v2_orifice',\n",
       " 'type': 'set_discharge_coefficients',\n",
       " 'uid': 'c20b88fe-27ba-4e40-85de-d18ff1bce0d6',\n",
       " 'url': 'https://api.3di.live/v3/simulations/99307/events/structure-control/table/4506/',\n",
       " 'values': [[-2.6, 0.0063, 0.0063]]}"
      ]
     },
     "execution_count": 15,
     "metadata": {},
     "output_type": "execute_result"
    }
   ],
   "source": [
    "THREEDI_API.simulations_events_structure_control_table_create(my_simulation.id, control_in_simulation)"
   ]
  },
  {
   "cell_type": "code",
   "execution_count": 16,
   "metadata": {},
   "outputs": [],
   "source": [
    "# First we define the location where the measure is taken. \n",
    "measure_location2 = MeasureLocation (\n",
    "    weight = 1.0,\n",
    "    content_type = 'v2_connection_node',\n",
    "    content_pk = 92776\n",
    ")\n",
    "\n",
    "# Then we define what is measured and the operator sign. This indicates whether the control has to act when (in this example waterlevel) is higher or lower than a certain value\n",
    "measure2 = MeasureSpecification (\n",
    "    name = 'measure point 2',\n",
    "    locations = [measure_location2], #in case of multiple locations add as a list\n",
    "    variable = 's1', #waterlevel measurement variable, one of the following options: s1 (waterlevel), vol1 (volume), q (discharge), u1 (velocity)\n",
    "    operator = '>')\n",
    "\n",
    "control_in_simulation2 = TableStructureControl (\n",
    "    duration = sim_duration,\n",
    "    offset = 0,\n",
    "    measure_specification = measure2, #defined before\n",
    "    structure_id = 6, #this is the id of the structure in the model. \n",
    "    structure_type ='v2_orifice', #[ v2_pumpstation, v2_pipe, v2_orifice, v2_culvert, v2_weir, v2_channel ]\n",
    "    type = 'set_discharge_coefficients', # [ set_discharge_coefficients, set_crest_level, set_pump_capacity ]\n",
    "    values = [[-2.60,0.0063,0.0063]] #When the water level exceeds the value of -2.60 m MSL the discharge coefficient of this structure is set to 0.063 (almost closed)\n",
    ")"
   ]
  },
  {
   "cell_type": "code",
   "execution_count": 17,
   "metadata": {},
   "outputs": [
    {
     "data": {
      "text/plain": [
       "{'duration': 3600,\n",
       " 'grid_id': None,\n",
       " 'id': 4507,\n",
       " 'measure_specification': {'id': 4512,\n",
       "                           'locations': [{'content_pk': 92776,\n",
       "                                          'content_type': 'v2_connection_node',\n",
       "                                          'grid_id': None,\n",
       "                                          'id': 4512,\n",
       "                                          'state': 'processing',\n",
       "                                          'state_detail': None,\n",
       "                                          'weight': '1.00'}],\n",
       "                           'name': 'measure point 2',\n",
       "                           'operator': '>',\n",
       "                           'variable': 's1'},\n",
       " 'offset': 0,\n",
       " 'state': 'processing',\n",
       " 'state_detail': None,\n",
       " 'structure_id': 6,\n",
       " 'structure_type': 'v2_orifice',\n",
       " 'type': 'set_discharge_coefficients',\n",
       " 'uid': '09a81846-b799-430f-b448-71be55682066',\n",
       " 'url': 'https://api.3di.live/v3/simulations/99307/events/structure-control/table/4507/',\n",
       " 'values': [[-2.6, 0.0063, 0.0063]]}"
      ]
     },
     "execution_count": 17,
     "metadata": {},
     "output_type": "execute_result"
    }
   ],
   "source": [
    "\n",
    "THREEDI_API.simulations_events_structure_control_table_create(my_simulation.id, control_in_simulation2)"
   ]
  },
  {
   "cell_type": "markdown",
   "metadata": {},
   "source": [
    "**Step 3: Running the 3Di-simulation by using the threedi-api**"
   ]
  },
  {
   "cell_type": "markdown",
   "metadata": {},
   "source": [
    "We will now start our simulation with the constant rain event:"
   ]
  },
  {
   "cell_type": "code",
   "execution_count": 19,
   "metadata": {},
   "outputs": [],
   "source": [
    "my_simulation_template = THREEDI_API.simulation_templates_list(simulation__threedimodel__id=model_id).results[0]\n",
    "my_simulation = THREEDI_API.simulations_from_template(\n",
    "        data={\n",
    "            \"template\": my_simulation_template.id,\n",
    "            \"name\": \"demo_simulation_3dinotebook_schermer\",\n",
    "            \"tags\": [\"demo_notebook_1\"],\n",
    "            \"organisation\": organisation_uuid,\n",
    "            \"start_datetime\": datetime.now(),\n",
    "            \"duration\": 3600 # in seconds, so we simulate for 1 hour\n",
    "        }\n",
    "    )"
   ]
  },
  {
   "cell_type": "code",
   "execution_count": 20,
   "metadata": {},
   "outputs": [
    {
     "data": {
      "text/plain": [
       "{'compute_cluster': None,\n",
       " 'duration': None,\n",
       " 'max_rate': None,\n",
       " 'name': 'start',\n",
       " 'timeout': 300}"
      ]
     },
     "execution_count": 20,
     "metadata": {},
     "output_type": "execute_result"
    }
   ],
   "source": [
    "THREEDI_API.simulations_actions_create(my_simulation.id, data={\"name\": \"start\"})"
   ]
  },
  {
   "cell_type": "markdown",
   "metadata": {},
   "source": [
    "We can check the status of the 3Di-simulation with:"
   ]
  },
  {
   "cell_type": "code",
   "execution_count": 22,
   "metadata": {},
   "outputs": [
    {
     "name": "stdout",
     "output_type": "stream",
     "text": [
      "{'created': datetime.datetime(2022, 10, 24, 13, 1, 53, 582225, tzinfo=tzutc()),\n",
      " 'exit_code': '1240 [finished]',\n",
      " 'id': 463128,\n",
      " 'name': 'finished',\n",
      " 'paused': False,\n",
      " 'time': 3612.0}\n"
     ]
    }
   ],
   "source": [
    "#check the status of the simulation with:\n",
    "status = THREEDI_API.simulations_status_list(my_simulation.id)\n",
    "print(status)"
   ]
  },
  {
   "cell_type": "markdown",
   "metadata": {},
   "source": [
    "\n",
    "**-----------------------------------------------------------------------------------------------------------------------------------------------------------------------------------------------------------------**\n",
    "The end\n",
    "\n",
    "In this tutorial we showed you:\n",
    "- how to start a simulation of a 3Di-model, \n",
    "- how to add a simple rain event to your simulation, \n",
    "- how to add control to your simulation\n",
    "- how to see the progress\n",
    "\n",
    "And all possible within a Jupyter notebook by making use of the API-v3. Ofcourse there are a lot more options for the analysis possible, by using threedigrid. Or for the events you can add to your simulation. Do you want to learn more or are you interested in some more possible analysis in a jupyter notebook? \n",
    "\n",
    "**Please contact**:\n",
    "\n",
    "Olof Baltus | olof.baltus@nelen-schuurmans.nl\n",
    "Jonas van Schrojenstein | jonas.vanschrojenstein@nelen-schuurmans.nl\n"
   ]
  },
  {
   "cell_type": "code",
   "execution_count": null,
   "metadata": {},
   "outputs": [],
   "source": []
  }
 ],
 "metadata": {
  "kernelspec": {
   "display_name": "Python 3 (ipykernel)",
   "language": "python",
   "name": "python3"
  },
  "language_info": {
   "codemirror_mode": {
    "name": "ipython",
    "version": 3
   },
   "file_extension": ".py",
   "mimetype": "text/x-python",
   "name": "python",
   "nbconvert_exporter": "python",
   "pygments_lexer": "ipython3",
   "version": "3.9.13"
  }
 },
 "nbformat": 4,
 "nbformat_minor": 4
}
